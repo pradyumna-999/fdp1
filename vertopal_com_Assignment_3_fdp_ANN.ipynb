{
  "cells": [
    {
      "cell_type": "markdown",
      "metadata": {
        "id": "view-in-github",
        "colab_type": "text"
      },
      "source": [
        "<a href=\"https://colab.research.google.com/github/pradyumna-999/fdp1/blob/main/vertopal_com_Assignment_3_fdp_ANN.ipynb\" target=\"_parent\"><img src=\"https://colab.research.google.com/assets/colab-badge.svg\" alt=\"Open In Colab\"/></a>"
      ]
    },
    {
      "cell_type": "markdown",
      "metadata": {
        "id": "42a14256-91c8-446e-92a7-ab6bf11055d3"
      },
      "source": [
        "x\\_(n+1) = x_n - α∇f(x_n)\n",
        "\n",
        "∇f(x,y) = \\[6x, -5e^(-y)\\]\n",
        "\n",
        "**First Iteration (α = 0.1):**\n",
        "\n",
        "x_1 = x_0 - α∇f(x_0)\n",
        "\n",
        "= \\[1, 1\\] - 0.1 \\* \\[6(1), -5e^(-1)\\]\n",
        "\n",
        "= \\[0.4, 1.5\\]\n",
        "\n",
        "**Second Iteration:**\n",
        "\n",
        "x_2 = x_1 - α∇f(x_1)\n",
        "\n",
        "= \\[0.4, 1.5\\] - 0.1 \\* \\[6(0.4), -5e^(-1.5)\\]\n",
        "\n",
        "≈ \\[0.04, 1.75\\]\n",
        "\n",
        "Python\n",
        "\n",
        "import numpy as np\n",
        "\n",
        "from scipy.optimize import minimize\n",
        "\n",
        "def f(x):\n",
        "\n",
        "return 3\\*x\\[0\\]\\*\\*2 + 5\\*np.exp(-x\\[1\\]) + 10\n",
        "\n",
        "\\# Initial guess\n",
        "\n",
        "x0 = np.array(\\[1, 1\\])\n",
        "\n",
        "\\# Minimize the function\n",
        "\n",
        "result = minimize(f, x0)\n",
        "\n",
        "print(\"Global minimum point:\", result.x)\n",
        "\n",
        "print(\"Global minimum value:\", result.fun)\n",
        "\n",
        "Global minimum point: \\[0. 0.\\] Global minimum value: 10.0"
      ],
      "id": "42a14256-91c8-446e-92a7-ab6bf11055d3"
    }
  ],
  "nbformat": 4,
  "nbformat_minor": 5,
  "metadata": {
    "colab": {
      "provenance": [],
      "include_colab_link": true
    }
  }
}