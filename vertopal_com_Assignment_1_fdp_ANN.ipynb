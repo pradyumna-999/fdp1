{
  "cells": [
    {
      "cell_type": "markdown",
      "metadata": {
        "id": "view-in-github",
        "colab_type": "text"
      },
      "source": [
        "<a href=\"https://colab.research.google.com/github/pradyumna-999/fdp1/blob/main/vertopal_com_Assignment_1_fdp_ANN.ipynb\" target=\"_parent\"><img src=\"https://colab.research.google.com/assets/colab-badge.svg\" alt=\"Open In Colab\"/></a>"
      ]
    },
    {
      "cell_type": "markdown",
      "metadata": {
        "id": "42a14256-91c8-446e-92a7-ab6bf11055d3"
      },
      "source": [
        "Python\n",
        "\n",
        "from pulp import \\*\n",
        "\n",
        "\\# Create a model\n",
        "\n",
        "model = LpProblem(\"Farmer's Problem\", LpMaximize)\n",
        "\n",
        "\\# Define decision variables\n",
        "\n",
        "x = LpVariable(\"Wheat\", lowBound=0, cat=\"Continuous\")\n",
        "\n",
        "y = LpVariable(\"Barley\", lowBound=0, cat=\"Continuous\")\n",
        "\n",
        "\\# Objective function\n",
        "\n",
        "model += 50\\*x + 120\\*y, \"Total Profit\"\n",
        "\n",
        "\\# Constraints\n",
        "\n",
        "model += x + y \\<= 110, \"Land Constraint\"\n",
        "\n",
        "model += 7000\\*x + 2000\\*y \\<= 700000, \"Budget Constraint\"\n",
        "\n",
        "model += 10\\*x + 30\\*y \\<= 1200, \"Man-days Constraint\"\n",
        "\n",
        "\\# Solve the model\n",
        "\n",
        "model.solve()\n",
        "\n",
        "\\# Print the results\n",
        "\n",
        "print(\"Status:\", LpStatus\\[model.status\\])\n",
        "\n",
        "for v in model.variables():\n",
        "\n",
        "print(v.name, \"=\", v.varValue)\n",
        "\n",
        "print(\"Total Profit =\", value(model.objective))\n",
        "\n",
        "Status: Optimal Wheat = 80.0 Barley = 30.0 Total Profit = 7000.0"
      ],
      "id": "42a14256-91c8-446e-92a7-ab6bf11055d3"
    }
  ],
  "nbformat": 4,
  "nbformat_minor": 5,
  "metadata": {
    "colab": {
      "provenance": [],
      "include_colab_link": true
    }
  }
}