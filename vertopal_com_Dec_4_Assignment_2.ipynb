{
  "cells": [
    {
      "cell_type": "markdown",
      "metadata": {
        "id": "view-in-github",
        "colab_type": "text"
      },
      "source": [
        "<a href=\"https://colab.research.google.com/github/pradyumna-999/fdp1/blob/main/vertopal_com_Dec_4_Assignment_2.ipynb\" target=\"_parent\"><img src=\"https://colab.research.google.com/assets/colab-badge.svg\" alt=\"Open In Colab\"/></a>"
      ]
    },
    {
      "cell_type": "markdown",
      "metadata": {
        "id": "42a14256-91c8-446e-92a7-ab6bf11055d3"
      },
      "source": [
        "Python\n",
        "\n",
        "import numpy as np\n",
        "\n",
        "from scipy.optimize import minimize\n",
        "\n",
        "def f(x):\n",
        "\n",
        "return x\\*\\*4 + 3\\*x\\*\\*2 + 10\n",
        "\n",
        "\\# Initial guess\n",
        "\n",
        "x0 = 1\n",
        "\n",
        "\\# Minimize the function\n",
        "\n",
        "result = minimize(f, x0)\n",
        "\n",
        "print(\"Global minimum point:\", result.x)\n",
        "\n",
        "print(\"Global minimum value:\", result.fun)\n",
        "\n",
        "Global minimum point: \\[0.\\] Global minimum value: 10.0"
      ],
      "id": "42a14256-91c8-446e-92a7-ab6bf11055d3"
    }
  ],
  "nbformat": 4,
  "nbformat_minor": 5,
  "metadata": {
    "colab": {
      "provenance": [],
      "include_colab_link": true
    }
  }
}